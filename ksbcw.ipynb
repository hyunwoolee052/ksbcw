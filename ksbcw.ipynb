{
 "cells": [
  {
   "cell_type": "markdown",
   "id": "8ed40ff5",
   "metadata": {},
   "source": [
    "# Korea Strait Bottom Cold Water\n",
    "\n",
    "## Information\n",
    " - Definition:\n",
    " - Location:\n",
    " - Duration:\n",
    " - Data Source:\n"
   ]
  },
  {
   "cell_type": "code",
   "execution_count": 2,
   "id": "100fc5f4",
   "metadata": {},
   "outputs": [],
   "source": [
    "import numpy as np\n",
    "import matplotlib.pyplot as plt"
   ]
  },
  {
   "cell_type": "code",
   "execution_count": null,
   "id": "779e2f34",
   "metadata": {},
   "outputs": [],
   "source": [
    "depth = [0, 10, 20, 30, 50, 75, 100, 125, 150, 200, 250, 300, 400, 500]  # Standard depth level\n"
   ]
  },
  {
   "cell_type": "code",
   "execution_count": null,
   "id": "894df1f7",
   "metadata": {},
   "outputs": [],
   "source": [
    "lats = [35.475, 35.405, 35.2967, 35.185, 35.08, 34.97, 34.8667, 34.755, 34.6483]  # 북위\n",
    "lons = [129.455, 129.5633, 129.715, 129.8783, 130.033, 130.1983, 130.3483, 130.51, 130.675]  # 동경\n"
   ]
  },
  {
   "cell_type": "code",
   "execution_count": 9,
   "id": "6fb6a984",
   "metadata": {},
   "outputs": [],
   "source": [
    "def distance_calculate(lat1, lon1, lat2, lon2):\n",
    "    \"\"\"\n",
    "    Calculate the distance between two points on the Earth specified in decimal degrees.\n",
    "    \"\"\"\n",
    "    from geopy.distance import geodesic\n",
    "    return geodesic((lat1, lon1), (lat2, lon2)).km"
   ]
  },
  {
   "cell_type": "code",
   "execution_count": 10,
   "id": "366f86f1",
   "metadata": {},
   "outputs": [],
   "source": [
    "# Calculate the distance between each point\n",
    "d = np.full(9, np.nan)  # Initialize an array to hold distances\n",
    "d[0] = 0  # set the first distance to 0\n",
    "for i in range(8):\n",
    "    d[i+1] = distance_calculate(lats[i], lons[i], lats[i+1], lons[i+1])\n"
   ]
  },
  {
   "cell_type": "code",
   "execution_count": null,
   "id": "b973179b",
   "metadata": {},
   "outputs": [],
   "source": []
  }
 ],
 "metadata": {
  "kernelspec": {
   "display_name": "ksbcw",
   "language": "python",
   "name": "python3"
  },
  "language_info": {
   "codemirror_mode": {
    "name": "ipython",
    "version": 3
   },
   "file_extension": ".py",
   "mimetype": "text/x-python",
   "name": "python",
   "nbconvert_exporter": "python",
   "pygments_lexer": "ipython3",
   "version": "3.13.5"
  }
 },
 "nbformat": 4,
 "nbformat_minor": 5
}
