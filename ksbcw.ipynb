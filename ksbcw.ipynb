{
 "cells": [
  {
   "cell_type": "markdown",
   "id": "8ed40ff5",
   "metadata": {},
   "source": [
    "# Korea Strait Bottom Cold Water\n",
    "\n",
    "## Information\n",
    " - Definition:\n",
    " - Location:\n",
    " - Duration:\n",
    " - Data Source:\n"
   ]
  },
  {
   "cell_type": "code",
   "execution_count": null,
   "id": "100fc5f4",
   "metadata": {},
   "outputs": [],
   "source": [
    "import numpy as np\n",
    "import matplotlib.pyplot as plt"
   ]
  }
 ],
 "metadata": {
  "kernelspec": {
   "display_name": "ksbcw",
   "language": "python",
   "name": "python3"
  },
  "language_info": {
   "name": "python",
   "version": "3.13.5"
  }
 },
 "nbformat": 4,
 "nbformat_minor": 5
}
